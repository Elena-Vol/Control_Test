{
  "cells": [
    {
      "cell_type": "markdown",
      "metadata": {
        "id": "view-in-github",
        "colab_type": "text"
      },
      "source": [
        "<a href=\"https://colab.research.google.com/github/Elena-Vol/Control_Test/blob/main/%D0%9F%D0%97_2_1_%D0%92%D0%BE%D0%BB%D0%BE%D0%B3%D0%B4%D0%B8%D0%BD%D0%B0_%D0%95%D0%BB%D0%B5%D0%BD%D0%B0_ipynb%22.ipynb\" target=\"_parent\"><img src=\"https://colab.research.google.com/assets/colab-badge.svg\" alt=\"Open In Colab\"/></a>"
      ]
    },
    {
      "cell_type": "markdown",
      "metadata": {
        "toc": true,
        "id": "XFrKpaGFAOUp"
      },
      "source": [
        "<h1>Table of Contents<span class=\"tocSkip\"></span></h1>\n",
        "<div class=\"toc\"><ul class=\"toc-item\"><li><span><a href=\"#Самостоятельная-работа-к-семинару-&quot;Основы-Python&quot;\" data-toc-modified-id=\"Самостоятельная-работа-к-семинару-&quot;Основы-Python&quot;-1\"><span class=\"toc-item-num\">1&nbsp;&nbsp;</span>Самостоятельная работа к семинару \"Основы Python\"</a></span><ul class=\"toc-item\"><li><span><a href=\"#Задание-1\" data-toc-modified-id=\"Задание-1-1.1\"><span class=\"toc-item-num\">1.1&nbsp;&nbsp;</span>Задание 1</a></span></li><li><span><a href=\"#Задание-2\" data-toc-modified-id=\"Задание-2-1.2\"><span class=\"toc-item-num\">1.2&nbsp;&nbsp;</span>Задание 2</a></span></li><li><span><a href=\"#Задание-3\" data-toc-modified-id=\"Задание-3-1.3\"><span class=\"toc-item-num\">1.3&nbsp;&nbsp;</span>Задание 3</a></span></li><li><span><a href=\"#Задание-4\" data-toc-modified-id=\"Задание-4-1.4\"><span class=\"toc-item-num\">1.4&nbsp;&nbsp;</span>Задание 4</a></span></li><li><span><a href=\"#Задание-5-(необязательное)\" data-toc-modified-id=\"Задание-5-(необязательное)-1.5\"><span class=\"toc-item-num\">1.5&nbsp;&nbsp;</span>Задание 5 (необязательное)</a></span></li><li><span><a href=\"#Задание-6-(необязательное)\" data-toc-modified-id=\"Задание-6-(необязательное)-1.6\"><span class=\"toc-item-num\">1.6&nbsp;&nbsp;</span>Задание 6 (необязательное)</a></span><ul class=\"toc-item\"><li><ul class=\"toc-item\"><li><span><a href=\"#ПРИМЕЧАНИЕ\" data-toc-modified-id=\"ПРИМЕЧАНИЕ-1.6.0.1\"><span class=\"toc-item-num\">1.6.0.1&nbsp;&nbsp;</span>ПРИМЕЧАНИЕ</a></span></li></ul></li></ul></li></ul></li></ul></div>"
      ]
    },
    {
      "cell_type": "markdown",
      "metadata": {
        "id": "bhxIDnYXAOUt"
      },
      "source": [
        "# Практические задания к семинару \"Введение в Python\""
      ]
    },
    {
      "cell_type": "markdown",
      "metadata": {
        "id": "mXd0R1d8AOUu"
      },
      "source": [
        "## Задание 1"
      ]
    },
    {
      "cell_type": "markdown",
      "metadata": {
        "id": "7qKxD9niAOUv"
      },
      "source": [
        "Даны 2 переменных, в которых хранятся строки произвольной длины: *phrase_1* и *phrase_2*.\n",
        "Напишите код, который проверяет какая из этих строк длиннее."
      ]
    },
    {
      "cell_type": "markdown",
      "metadata": {
        "id": "NX8aZAvhAOUv"
      },
      "source": [
        "Примеры работы программы:\n",
        "1.\n",
        "\n",
        "```\n",
        "phrase_1 = 'Скоро останутся лишь две группы работников: те, кто контролирует компьютеры, и те, кого контролируют компьютеры. Постарайтесь попасть в первую. Льюис Д. Эйген в 1961 г.'\n",
        "phrase_2 = 'Опасность не в том, что компьютер однажды начнет мыслить, как человек, а в том, что человек однажды начнет мыслить, как компьютер. Сидни Дж. Харрис'\n",
        "\n",
        "\n",
        "```\n",
        "\n",
        "Результат:\n",
        "`Фраза 1 длиннее фразы 2`\n",
        "2.\n",
        "\n",
        "```\n",
        "phrase_1 = 'Надежно защищен только выключенный компьютер. Евгений Касперский'\n",
        "phrase_2 = 'Если ад существует, он, безусловно, компьютеризирован. Станислав Лем'\n",
        "```\n",
        "\n",
        "Результат:\n",
        "`Фраза 2 длиннее фразы 1`\n",
        "3.\n",
        "\n",
        "```\n",
        "phrase_1 = 'Данные — это новая нефть. Джек Ма'\n",
        "phrase_2 = 'Данные — это новая нефть. Джек Ма'\n",
        "```\n",
        "\n",
        "Результат:\n",
        "`Фразы равной длины`"
      ]
    },
    {
      "cell_type": "code",
      "source": [
        "x = 'Данные — это новая нефть. Джек Ма'\n",
        "y = 'Данные — это новая нефть. Джек Ма'\n",
        "if x>y:\n",
        "  print(x)\n",
        "elif x<y:\n",
        "  print(y)\n",
        "else:\n",
        "  print('длинна фраз одинаковая')"
      ],
      "metadata": {
        "id": "COUImesj-Fip",
        "outputId": "b41ecb24-b175-4da7-eef0-781a42dac675",
        "colab": {
          "base_uri": "https://localhost:8080/"
        }
      },
      "execution_count": null,
      "outputs": [
        {
          "output_type": "stream",
          "name": "stdout",
          "text": [
            "Данные — это новая нефть. Джек Ма MA\n"
          ]
        }
      ]
    },
    {
      "cell_type": "markdown",
      "metadata": {
        "id": "Yy67AwXBAOUw"
      },
      "source": [
        "## Задание 2"
      ]
    },
    {
      "cell_type": "markdown",
      "metadata": {
        "id": "HfbcJwtVAOUx"
      },
      "source": [
        "Дана переменная, в которой хранится число (год). Необходимо написать программу, которая выведет, является ли данный год високосным или обычным.\n",
        "\n",
        "Пример работы программы:\n",
        "1.\n",
        "\n",
        "```\n",
        "year = 2020\n",
        "```\n",
        "Результат:\n",
        "`Високосный год`\n",
        "\n",
        "2.\n",
        "\n",
        "```\n",
        "year = 2019\n",
        "```\n",
        "Результат:\n",
        "`Обычный год`"
      ]
    },
    {
      "cell_type": "code",
      "source": [
        "x=2012\n",
        "if x%400==0:\n",
        "  print (x, '- високосный год')\n",
        "elif x%100==0:\n",
        "  print (x, '- обычный год')\n",
        "elif x%4==0:\n",
        "  print (x, '- високосный год')\n",
        "else:\n",
        "  print (x, '- обычный год')"
      ],
      "metadata": {
        "colab": {
          "base_uri": "https://localhost:8080/"
        },
        "id": "png44q86Bahx",
        "outputId": "37bd5e6e-d9e7-4dfb-bcf9-364174368dfb"
      },
      "execution_count": null,
      "outputs": [
        {
          "output_type": "stream",
          "name": "stdout",
          "text": [
            "2012 - високосный год\n"
          ]
        }
      ]
    },
    {
      "cell_type": "markdown",
      "metadata": {
        "id": "w7aCOR-wAOUy"
      },
      "source": [
        "## Задание 3"
      ]
    },
    {
      "cell_type": "markdown",
      "metadata": {
        "id": "_Ga3t9mIAOUz"
      },
      "source": [
        "Необходимо написать программу, которая будет запрашивать у пользователя месяц и дату рождения и выводить соответствующий знак зодиака.\n",
        "\n",
        "Пример работы программы:\n",
        "1.\n",
        "\n",
        "```\n",
        "Введите день:\n",
        "30\n",
        "\n",
        "Введите месяц:\n",
        "Август\n",
        "```\n",
        "Результат:\n",
        "`Ваш знак зодиака: Дева`\n",
        "\n",
        "2.\n",
        "\n",
        "```\n",
        "Введите день:\n",
        "29\n",
        "\n",
        "Введите месяц:\n",
        "Октябрь\n",
        "```\n",
        "Результат:\n",
        "`Ваш знак зодиака: Скорпион`\n"
      ]
    },
    {
      "cell_type": "code",
      "source": [
        "month = input('введите месяц  ')\n",
        "day = int( input('введите дату рождения  ') )\n",
        "if month == 'февраль' and day <=20 or month == 'январь' and day > 20:\n",
        "  print('вы - Водолей')\n",
        "if month == 'январь' and day <=20 or month == 'декабрь' and day > 20:\n",
        "  print('вы - Козерог')\n",
        "if month == 'март' and day <=20 or month == 'февраль' and day > 20:\n",
        "  print('вы - Рыбы')\n",
        "if month == 'апрель' and day <=20 or month == 'март' and day > 20:\n",
        "  print('вы - Овен')\n",
        "if month == 'май' and day <=20 or month == 'апрель' and day > 20:\n",
        "  print('вы - Телец')"
      ],
      "metadata": {
        "colab": {
          "base_uri": "https://localhost:8080/"
        },
        "id": "35_xg3jrBpL_",
        "outputId": "4512731c-f5fc-4614-be24-21f27c10ea29"
      },
      "execution_count": null,
      "outputs": [
        {
          "output_type": "stream",
          "name": "stdout",
          "text": [
            "введите месяц  май\n",
            "введите дату рождения  5\n",
            "вы - Телец\n"
          ]
        }
      ]
    },
    {
      "cell_type": "markdown",
      "metadata": {
        "id": "6fzuol9uAOUz"
      },
      "source": [
        "## Задание 4"
      ]
    },
    {
      "cell_type": "markdown",
      "metadata": {
        "id": "nyML-qnNAOU0"
      },
      "source": [
        "Вам нужно написать программу для подбора упаковок по размерам товара. Размеры (ширина, длина, высота) хранятся в переменных (в сантиметрах):\n",
        "\n",
        "Используйте следующие правила:\n",
        "- если каждое из трех измерений менее или равно 15 сантиметрам, то выведите на экран \"Коробка №1\";\n",
        "- если хотя бы одно из измерений больше 15 сантиметров, но менее 50 сантиметров, то выводите \"Коробка №2\";\n",
        "- если длина товара больше 2 метров, то выводите \"Упаковка для лыж\";\n",
        "- во всех остальных случаях выводите \"Стандартная коробка №3\".\n",
        "\n",
        "Пример работы программы:\n",
        "1.\n",
        "\n",
        "```\n",
        "width = 15\n",
        "length = 50\n",
        "height = 15\n",
        "```\n",
        "Результат:\n",
        "`Стандартная коробка №3`\n",
        "\n",
        "2.\n",
        "\n",
        "```\n",
        "width = 45\n",
        "length = 205\n",
        "height = 45\n",
        "```\n",
        "Результат:\n",
        "`Ищите упаковку для лыж`"
      ]
    },
    {
      "cell_type": "code",
      "source": [
        "width = int(input('введите ширину  '))\n",
        "length = int( input('введите длину  ') )\n",
        "height = int( input('введите высоту  ') )\n",
        "if height > 200:\n",
        "  print('Упаковка для лыж')\n",
        "elif width <= 15 and length <= 15 and height <= 15 :\n",
        "  print('Коробка №1')\n",
        "elif width > 15 and width < 50 or length > 15 and length < 50 or height > 15 and height < 50:\n",
        "  print('Коробка №2')\n",
        "else:\n",
        "  print('Стандартная коробка №3')"
      ],
      "metadata": {
        "colab": {
          "base_uri": "https://localhost:8080/"
        },
        "id": "9BghPPs-B4HT",
        "outputId": "3faba04b-c86d-4297-f0bd-8d3747ce7ee9"
      },
      "execution_count": null,
      "outputs": [
        {
          "output_type": "stream",
          "name": "stdout",
          "text": [
            "введите ширину  15\n",
            "введите длину  70\n",
            "введите высоту  15\n",
            "Стандартная коробка №3\n"
          ]
        }
      ]
    },
    {
      "cell_type": "markdown",
      "metadata": {
        "id": "quqWSQ8wAOU0"
      },
      "source": [
        "## Задание 5 (необязательное)"
      ]
    },
    {
      "cell_type": "markdown",
      "metadata": {
        "id": "yLc4jY5fAOU0"
      },
      "source": [
        "Дана переменная, в которой хранится **шестизначное число** (номер проездного билета). Напишите программу, которая будет определять, является ли данный билет \"счастливым\". Билет считается счастливым, если сумма первых трех цифр совпадает с суммой последних трех цифр номера.\n",
        "\n",
        "Примеры работы программы:\n",
        "1. ```number = 123456```\n",
        "\n",
        "Результат:\n",
        "`Несчастливый билет`\n",
        "2. ```number = 123321```\n",
        "\n",
        "Результат:\n",
        "`Счастливый билет`\n"
      ]
    },
    {
      "cell_type": "markdown",
      "metadata": {
        "id": "kqlAJKL9AOU0"
      },
      "source": [
        "## Задание 6 (необязательное)"
      ]
    },
    {
      "cell_type": "markdown",
      "metadata": {
        "id": "t6qo-STxAOU1"
      },
      "source": [
        "Напишите программу, которая сможет вычислять площади трех фигур (круг, треугольник и прямоугольник).\n",
        "Тип фигуры запрашиваем через пользовательский ввод, после чего делаем запрос характеристик фигуры:\n",
        "\n",
        "- если пользователь выбрал круг, запрашиваем его радиус,\n",
        "- если треугольник – длины трех его сторон;\n",
        "- если прямоугольник – длины двух его сторон.\n",
        "\n",
        "Пример работы программы:\n",
        "1.\n",
        "\n",
        "```\n",
        "Введите тип фигуры:\n",
        "Круг\n",
        "\n",
        "Введите радиус круга:\n",
        "10\n",
        "```\n",
        "Результат:\n",
        "`Площадь круга: 314.16`\n",
        "\n",
        "2.\n",
        "\n",
        "```\n",
        "Введите тип фигуры:\n",
        "Треугольник\n",
        "\n",
        "Введите длину стороны A:\n",
        "2\n",
        "\n",
        "Введите длину стороны B:\n",
        "2\n",
        "\n",
        "Введите длину стороны C:\n",
        "3\n",
        "```\n",
        "Результат:\n",
        "`Площадь треугольника: 1.98`"
      ]
    },
    {
      "cell_type": "markdown",
      "metadata": {
        "id": "lLAztDVXAOU1"
      },
      "source": [
        "#### ПРИМЕЧАНИЕ\n",
        "Самостоятельная работа сдается ссылкой [Google Colab](https://colab.research.google.com/)"
      ]
    },
    {
      "cell_type": "code",
      "execution_count": null,
      "metadata": {
        "id": "NsQ2W7gMAOU1"
      },
      "outputs": [],
      "source": []
    }
  ],
  "metadata": {
    "kernelspec": {
      "display_name": "Python 3 (ipykernel)",
      "language": "python",
      "name": "python3"
    },
    "language_info": {
      "codemirror_mode": {
        "name": "ipython",
        "version": 3
      },
      "file_extension": ".py",
      "mimetype": "text/x-python",
      "name": "python",
      "nbconvert_exporter": "python",
      "pygments_lexer": "ipython3",
      "version": "3.9.7"
    },
    "toc": {
      "base_numbering": 1,
      "nav_menu": {},
      "number_sections": true,
      "sideBar": true,
      "skip_h1_title": false,
      "title_cell": "Table of Contents",
      "title_sidebar": "Contents",
      "toc_cell": true,
      "toc_position": {},
      "toc_section_display": true,
      "toc_window_display": false
    },
    "varInspector": {
      "cols": {
        "lenName": 16,
        "lenType": 16,
        "lenVar": 40
      },
      "kernels_config": {
        "python": {
          "delete_cmd_postfix": "",
          "delete_cmd_prefix": "del ",
          "library": "var_list.py",
          "varRefreshCmd": "print(var_dic_list())"
        },
        "r": {
          "delete_cmd_postfix": ") ",
          "delete_cmd_prefix": "rm(",
          "library": "var_list.r",
          "varRefreshCmd": "cat(var_dic_list()) "
        }
      },
      "types_to_exclude": [
        "module",
        "function",
        "builtin_function_or_method",
        "instance",
        "_Feature"
      ],
      "window_display": false
    },
    "colab": {
      "provenance": [],
      "include_colab_link": true
    }
  },
  "nbformat": 4,
  "nbformat_minor": 0
}